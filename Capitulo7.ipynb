{
 "cells": [
  {
   "cell_type": "markdown",
   "metadata": {},
   "source": [
    "# Practical Statistics for Data Scientists (Python)\n",
    "# Chapter 7. Unsupervised Learning\n",
    "> (c) 2019 Peter C. Bruce, Andrew Bruce, Peter Gedeck"
   ]
  },
  {
   "cell_type": "markdown",
   "metadata": {},
   "source": [
    "Import required Python packages."
   ]
  },
  {
   "cell_type": "code",
   "execution_count": 60,
   "metadata": {
    "execution": {
     "iopub.execute_input": "2022-04-26T20:05:15.396291Z",
     "iopub.status.busy": "2022-04-26T20:05:15.396033Z",
     "iopub.status.idle": "2022-04-26T20:05:16.799856Z",
     "shell.execute_reply": "2022-04-26T20:05:16.798934Z"
    }
   },
   "outputs": [],
   "source": [
    "import math\n",
    "from pathlib import Path\n",
    "import pandas as pd\n",
    "import numpy as np\n",
    "\n",
    "from sklearn import preprocessing\n",
    "from sklearn.decomposition import PCA\n",
    "from sklearn.cluster import KMeans\n",
    "from sklearn.mixture import GaussianMixture\n",
    "\n",
    "from scipy.cluster.hierarchy import linkage, dendrogram, fcluster\n",
    "from scipy.stats import multivariate_normal\n",
    "\n",
    "#import prince\n",
    "\n",
    "import matplotlib.pyplot as plt\n",
    "from matplotlib import cm \n",
    "from matplotlib.colors import from_levels_and_colors\n",
    "import seaborn as sns\n",
    "from collections import Counter\n",
    "\n",
    "%matplotlib inline"
   ]
  },
  {
   "cell_type": "markdown",
   "metadata": {},
   "source": [
    "# Scaling and Categorical Variables\n",
    "## Scaling the Variables"
   ]
  },
  {
   "cell_type": "code",
   "execution_count": 33,
   "metadata": {},
   "outputs": [],
   "source": [
    "loan_data = pd.read_csv(r'./data/loan_data.csv.gz', sep=',')"
   ]
  },
  {
   "cell_type": "code",
   "execution_count": 39,
   "metadata": {},
   "outputs": [
    {
     "name": "stdout",
     "output_type": "stream",
     "text": [
      "<class 'pandas.core.frame.DataFrame'>\n",
      "RangeIndex: 45342 entries, 0 to 45341\n",
      "Data columns (total 21 columns):\n",
      " #   Column             Non-Null Count  Dtype   \n",
      "---  ------             --------------  -----   \n",
      " 0   Unnamed: 0         45342 non-null  int64   \n",
      " 1   status             45342 non-null  object  \n",
      " 2   loan_amnt          45342 non-null  int64   \n",
      " 3   term               45342 non-null  object  \n",
      " 4   annual_inc         45342 non-null  int64   \n",
      " 5   dti                45342 non-null  float64 \n",
      " 6   payment_inc_ratio  45342 non-null  float64 \n",
      " 7   revol_bal          45342 non-null  int64   \n",
      " 8   revol_util         45342 non-null  float64 \n",
      " 9   purpose            45342 non-null  object  \n",
      " 10  home_ownership     45342 non-null  object  \n",
      " 11  delinq_2yrs_zero   45342 non-null  int64   \n",
      " 12  pub_rec_zero       45342 non-null  int64   \n",
      " 13  open_acc           45342 non-null  int64   \n",
      " 14  grade              45342 non-null  float64 \n",
      " 15  outcome            45342 non-null  category\n",
      " 16  emp_length         45342 non-null  int64   \n",
      " 17  purpose_           45342 non-null  object  \n",
      " 18  home_              45342 non-null  object  \n",
      " 19  emp_len_           45342 non-null  object  \n",
      " 20  borrower_score     45342 non-null  float64 \n",
      "dtypes: category(1), float64(5), int64(8), object(7)\n",
      "memory usage: 7.0+ MB\n"
     ]
    }
   ],
   "source": [
    "loan_data.info()"
   ]
  },
  {
   "cell_type": "markdown",
   "metadata": {},
   "source": [
    "- status: El estado del préstamo\n",
    "- loan_amnt: El monto del préstamo\n",
    "- term: Plazo del préstamo\n",
    "- annual_inc: Ingreso anual del prestatario\n",
    "- dti: Relación entre la deuda total y el ingreso total\n",
    "- payment_inc_ratio: Monto del pago del préstamo dividido por el ingreso bruto\n",
    "- revol_bal: Saldo del crédito revolvente\n",
    "- revol_util: porcentaje de crédito disponible\n",
    "- purpose: propósito del préstamo \n",
    "- home_ownership: Indica si el prestatario es propietario de una vivienda o alquila.\n",
    "- delinq_2yrs_zero: Número de cuentas morosas en los últimos 2 años (0 indica ninguna)\n",
    "- pub_rec_zero: Número de registros públicos (por ejemplo, bancarrotas, juicios, embargos, etc.) en los últimos 10 años (0 indica ninguno)\n",
    "- open_acc: Número de cuentas abiertas\n",
    "- grade: Calificación de solvencia crediticia asignada al prestatario por el prestamista\n",
    "- outcome: 'paid off' (pagado) o 'default' (incumplimiento).\n",
    "- emp_length: Años de empleo del prestatario\n",
    "- purpose_, home_, emp_len_: versiones codificadas de variables categóricas"
   ]
  },
  {
   "cell_type": "code",
   "execution_count": 43,
   "metadata": {},
   "outputs": [
    {
     "data": {
      "text/plain": [
       "outcome\n",
       "paid off    22671\n",
       "default     22671\n",
       "Name: count, dtype: int64"
      ]
     },
     "execution_count": 43,
     "metadata": {},
     "output_type": "execute_result"
    }
   ],
   "source": [
    "loan_data['outcome'].value_counts()"
   ]
  },
  {
   "cell_type": "code",
   "execution_count": 40,
   "metadata": {},
   "outputs": [
    {
     "data": {
      "text/plain": [
       "Index(['Unnamed: 0', 'status', 'loan_amnt', 'term', 'annual_inc', 'dti',\n",
       "       'payment_inc_ratio', 'revol_bal', 'revol_util', 'purpose',\n",
       "       'home_ownership', 'delinq_2yrs_zero', 'pub_rec_zero', 'open_acc',\n",
       "       'grade', 'outcome', 'emp_length', 'purpose_', 'home_', 'emp_len_',\n",
       "       'borrower_score'],\n",
       "      dtype='object')"
      ]
     },
     "execution_count": 40,
     "metadata": {},
     "output_type": "execute_result"
    }
   ],
   "source": [
    "loan_data.columns"
   ]
  },
  {
   "cell_type": "code",
   "execution_count": 38,
   "metadata": {},
   "outputs": [],
   "source": [
    "#La columna 'outcome' se convierte en una variable categórica con dos categorías ordenadas: 'paid off' y 'default'.\n",
    "# importante para usar el agrupamiento k-means más adelante.\n",
    "\n",
    "loan_data['outcome'] = pd.Categorical(loan_data['outcome'], \n",
    "                                      categories=['paid off', 'default'], \n",
    "                                      ordered=True)"
   ]
  },
  {
   "cell_type": "code",
   "execution_count": 50,
   "metadata": {},
   "outputs": [],
   "source": [
    "#creación de un DataFrame \"defaults\"  que contiene solo las filas donde el resultado es 'default'.\n",
    "#filtra los casos de incumplimiento\n",
    "\n",
    "defaults = loan_data.loc[loan_data['outcome'] == 'default',]\n"
   ]
  },
  {
   "cell_type": "code",
   "execution_count": 55,
   "metadata": {},
   "outputs": [
    {
     "data": {
      "text/plain": [
       "outcome\n",
       "default     22671\n",
       "paid off        0\n",
       "Name: count, dtype: int64"
      ]
     },
     "execution_count": 55,
     "metadata": {},
     "output_type": "execute_result"
    }
   ],
   "source": [
    "defaults['outcome'].value_counts()"
   ]
  },
  {
   "cell_type": "code",
   "execution_count": 56,
   "metadata": {},
   "outputs": [],
   "source": [
    "#Selección de columnas relevantes para el análisis de agrupamiento.\n",
    "\n",
    "columns = ['loan_amnt', 'annual_inc', 'revol_bal', 'open_acc', \n",
    "           'dti', 'revol_util']\n",
    "\n",
    "df = defaults[columns]"
   ]
  },
  {
   "cell_type": "code",
   "execution_count": 59,
   "metadata": {},
   "outputs": [
    {
     "data": {
      "text/html": [
       "<div>\n",
       "<style scoped>\n",
       "    .dataframe tbody tr th:only-of-type {\n",
       "        vertical-align: middle;\n",
       "    }\n",
       "\n",
       "    .dataframe tbody tr th {\n",
       "        vertical-align: top;\n",
       "    }\n",
       "\n",
       "    .dataframe thead th {\n",
       "        text-align: right;\n",
       "    }\n",
       "</style>\n",
       "<table border=\"1\" class=\"dataframe\">\n",
       "  <thead>\n",
       "    <tr style=\"text-align: right;\">\n",
       "      <th></th>\n",
       "      <th>loan_amnt</th>\n",
       "      <th>annual_inc</th>\n",
       "      <th>revol_bal</th>\n",
       "      <th>open_acc</th>\n",
       "      <th>dti</th>\n",
       "      <th>revol_util</th>\n",
       "    </tr>\n",
       "  </thead>\n",
       "  <tbody>\n",
       "    <tr>\n",
       "      <th>0</th>\n",
       "      <td>2500</td>\n",
       "      <td>30000</td>\n",
       "      <td>1687</td>\n",
       "      <td>3</td>\n",
       "      <td>1.00</td>\n",
       "      <td>9.4</td>\n",
       "    </tr>\n",
       "    <tr>\n",
       "      <th>1</th>\n",
       "      <td>5600</td>\n",
       "      <td>40000</td>\n",
       "      <td>5210</td>\n",
       "      <td>11</td>\n",
       "      <td>5.55</td>\n",
       "      <td>32.6</td>\n",
       "    </tr>\n",
       "    <tr>\n",
       "      <th>2</th>\n",
       "      <td>5375</td>\n",
       "      <td>15000</td>\n",
       "      <td>9279</td>\n",
       "      <td>2</td>\n",
       "      <td>18.08</td>\n",
       "      <td>36.5</td>\n",
       "    </tr>\n",
       "    <tr>\n",
       "      <th>3</th>\n",
       "      <td>9000</td>\n",
       "      <td>30000</td>\n",
       "      <td>10452</td>\n",
       "      <td>4</td>\n",
       "      <td>10.08</td>\n",
       "      <td>91.7</td>\n",
       "    </tr>\n",
       "    <tr>\n",
       "      <th>4</th>\n",
       "      <td>10000</td>\n",
       "      <td>100000</td>\n",
       "      <td>11997</td>\n",
       "      <td>14</td>\n",
       "      <td>7.06</td>\n",
       "      <td>55.5</td>\n",
       "    </tr>\n",
       "    <tr>\n",
       "      <th>5</th>\n",
       "      <td>21000</td>\n",
       "      <td>105000</td>\n",
       "      <td>32135</td>\n",
       "      <td>7</td>\n",
       "      <td>13.22</td>\n",
       "      <td>90.3</td>\n",
       "    </tr>\n",
       "    <tr>\n",
       "      <th>6</th>\n",
       "      <td>6000</td>\n",
       "      <td>76000</td>\n",
       "      <td>5963</td>\n",
       "      <td>7</td>\n",
       "      <td>2.40</td>\n",
       "      <td>29.7</td>\n",
       "    </tr>\n",
       "    <tr>\n",
       "      <th>7</th>\n",
       "      <td>15000</td>\n",
       "      <td>60000</td>\n",
       "      <td>5872</td>\n",
       "      <td>7</td>\n",
       "      <td>15.22</td>\n",
       "      <td>57.6</td>\n",
       "    </tr>\n",
       "    <tr>\n",
       "      <th>8</th>\n",
       "      <td>5000</td>\n",
       "      <td>50004</td>\n",
       "      <td>4345</td>\n",
       "      <td>14</td>\n",
       "      <td>13.97</td>\n",
       "      <td>59.5</td>\n",
       "    </tr>\n",
       "    <tr>\n",
       "      <th>9</th>\n",
       "      <td>5000</td>\n",
       "      <td>100000</td>\n",
       "      <td>74351</td>\n",
       "      <td>17</td>\n",
       "      <td>16.33</td>\n",
       "      <td>62.1</td>\n",
       "    </tr>\n",
       "    <tr>\n",
       "      <th>10</th>\n",
       "      <td>15000</td>\n",
       "      <td>80000</td>\n",
       "      <td>11845</td>\n",
       "      <td>9</td>\n",
       "      <td>9.12</td>\n",
       "      <td>63.7</td>\n",
       "    </tr>\n",
       "    <tr>\n",
       "      <th>11</th>\n",
       "      <td>12000</td>\n",
       "      <td>50000</td>\n",
       "      <td>15793</td>\n",
       "      <td>11</td>\n",
       "      <td>20.88</td>\n",
       "      <td>90.8</td>\n",
       "    </tr>\n",
       "    <tr>\n",
       "      <th>12</th>\n",
       "      <td>21000</td>\n",
       "      <td>50000</td>\n",
       "      <td>19448</td>\n",
       "      <td>7</td>\n",
       "      <td>21.58</td>\n",
       "      <td>97.6</td>\n",
       "    </tr>\n",
       "    <tr>\n",
       "      <th>13</th>\n",
       "      <td>12500</td>\n",
       "      <td>30000</td>\n",
       "      <td>9844</td>\n",
       "      <td>7</td>\n",
       "      <td>13.16</td>\n",
       "      <td>70.8</td>\n",
       "    </tr>\n",
       "    <tr>\n",
       "      <th>14</th>\n",
       "      <td>8200</td>\n",
       "      <td>75000</td>\n",
       "      <td>9012</td>\n",
       "      <td>6</td>\n",
       "      <td>12.48</td>\n",
       "      <td>73.9</td>\n",
       "    </tr>\n",
       "    <tr>\n",
       "      <th>15</th>\n",
       "      <td>6400</td>\n",
       "      <td>75000</td>\n",
       "      <td>7159</td>\n",
       "      <td>9</td>\n",
       "      <td>20.22</td>\n",
       "      <td>67.5</td>\n",
       "    </tr>\n",
       "    <tr>\n",
       "      <th>16</th>\n",
       "      <td>17500</td>\n",
       "      <td>45000</td>\n",
       "      <td>20129</td>\n",
       "      <td>13</td>\n",
       "      <td>21.31</td>\n",
       "      <td>86.1</td>\n",
       "    </tr>\n",
       "    <tr>\n",
       "      <th>17</th>\n",
       "      <td>6200</td>\n",
       "      <td>25000</td>\n",
       "      <td>6533</td>\n",
       "      <td>7</td>\n",
       "      <td>20.64</td>\n",
       "      <td>47.7</td>\n",
       "    </tr>\n",
       "    <tr>\n",
       "      <th>18</th>\n",
       "      <td>18825</td>\n",
       "      <td>38000</td>\n",
       "      <td>11004</td>\n",
       "      <td>6</td>\n",
       "      <td>23.18</td>\n",
       "      <td>79.7</td>\n",
       "    </tr>\n",
       "    <tr>\n",
       "      <th>19</th>\n",
       "      <td>10000</td>\n",
       "      <td>75000</td>\n",
       "      <td>22828</td>\n",
       "      <td>9</td>\n",
       "      <td>24.14</td>\n",
       "      <td>96.3</td>\n",
       "    </tr>\n",
       "  </tbody>\n",
       "</table>\n",
       "</div>"
      ],
      "text/plain": [
       "    loan_amnt  annual_inc  revol_bal  open_acc    dti  revol_util\n",
       "0        2500       30000       1687         3   1.00         9.4\n",
       "1        5600       40000       5210        11   5.55        32.6\n",
       "2        5375       15000       9279         2  18.08        36.5\n",
       "3        9000       30000      10452         4  10.08        91.7\n",
       "4       10000      100000      11997        14   7.06        55.5\n",
       "5       21000      105000      32135         7  13.22        90.3\n",
       "6        6000       76000       5963         7   2.40        29.7\n",
       "7       15000       60000       5872         7  15.22        57.6\n",
       "8        5000       50004       4345        14  13.97        59.5\n",
       "9        5000      100000      74351        17  16.33        62.1\n",
       "10      15000       80000      11845         9   9.12        63.7\n",
       "11      12000       50000      15793        11  20.88        90.8\n",
       "12      21000       50000      19448         7  21.58        97.6\n",
       "13      12500       30000       9844         7  13.16        70.8\n",
       "14       8200       75000       9012         6  12.48        73.9\n",
       "15       6400       75000       7159         9  20.22        67.5\n",
       "16      17500       45000      20129        13  21.31        86.1\n",
       "17       6200       25000       6533         7  20.64        47.7\n",
       "18      18825       38000      11004         6  23.18        79.7\n",
       "19      10000       75000      22828         9  24.14        96.3"
      ]
     },
     "execution_count": 59,
     "metadata": {},
     "output_type": "execute_result"
    }
   ],
   "source": [
    "df.head(20)"
   ]
  },
  {
   "cell_type": "code",
   "execution_count": 61,
   "metadata": {},
   "outputs": [],
   "source": [
    "# Se aplica el algoritmo K-Means para agrupar los datos. \n",
    "# se especifica que se quieren formar 4 grupos (n_clusters=4). \n",
    "# Se utiliza un estado aleatorio para la inicialización y se ajusta el número de inicializaciones de forma automática.\n",
    "\n",
    "kmeans = KMeans(n_clusters=4, random_state=1, n_init='auto').fit(df)\n",
    "\n",
    "#cuenta el número de observaciones en cada uno de los clusters generados por K-Means.\n",
    "counts = Counter(kmeans.labels_)\n"
   ]
  },
  {
   "cell_type": "code",
   "execution_count": 62,
   "metadata": {
    "execution": {
     "iopub.execute_input": "2022-04-26T20:05:26.788130Z",
     "iopub.status.busy": "2022-04-26T20:05:26.786993Z",
     "iopub.status.idle": "2022-04-26T20:05:27.423376Z",
     "shell.execute_reply": "2022-04-26T20:05:27.422563Z"
    }
   },
   "outputs": [
    {
     "name": "stdout",
     "output_type": "stream",
     "text": [
      "      loan_amnt     annual_inc     revol_bal   open_acc        dti  \\\n",
      "0  17809.760881   78669.452556  18933.405997  11.594003  17.016428   \n",
      "1  21444.318867  148736.057263  33152.689572  12.376733  13.831145   \n",
      "2  24290.909091  409746.465909  84710.988636  13.431818   8.148636   \n",
      "3  10274.160906   41241.205530   9950.095008   9.480338  17.718588   \n",
      "\n",
      "   revol_util   size  \n",
      "0   62.183810   7906  \n",
      "1   63.151084   1654  \n",
      "2   60.015647     88  \n",
      "3   57.903425  13023  \n"
     ]
    }
   ],
   "source": [
    "#Se calculan los centroides de los clusters formados y se almacenan en un DataFrame llamado centers.\n",
    "\n",
    "centers = pd.DataFrame(kmeans.cluster_centers_, columns=columns)\n",
    "centers['size'] = [counts[i] for i in range(4)]\n",
    "print(centers)"
   ]
  },
  {
   "cell_type": "markdown",
   "metadata": {},
   "source": [
    "S realizó un análisis de agrupamiento utilizando el algoritmo K-Meanssin escalar las características y a continuacion se escala utilizando la estandarización"
   ]
  },
  {
   "cell_type": "code",
   "execution_count": 63,
   "metadata": {
    "execution": {
     "iopub.execute_input": "2022-04-26T20:05:27.426441Z",
     "iopub.status.busy": "2022-04-26T20:05:27.426027Z",
     "iopub.status.idle": "2022-04-26T20:05:28.047384Z",
     "shell.execute_reply": "2022-04-26T20:05:28.046440Z"
    }
   },
   "outputs": [
    {
     "name": "stdout",
     "output_type": "stream",
     "text": [
      "      loan_amnt     annual_inc     revol_bal   open_acc        dti  \\\n",
      "0  13484.728906   55907.993263  16435.803337  14.322265  24.211535   \n",
      "1  25950.205142  116834.142232  32945.972921  12.396335  16.165914   \n",
      "2  10507.283093   51117.994063  11635.285252   7.509513  15.931561   \n",
      "3  10324.846369   53456.824767   6054.819926   8.664618  11.312983   \n",
      "\n",
      "   revol_util  size  \n",
      "0   59.463608  6244  \n",
      "1   66.123542  3670  \n",
      "2   77.795077  7397  \n",
      "3   30.999874  5360  \n"
     ]
    }
   ],
   "source": [
    "\n",
    "#Se estandarizan los datos utilizando la clase StandardScaler\n",
    "scaler = preprocessing.StandardScaler()\n",
    "df0 = scaler.fit_transform(df * 1.0)\n",
    "\n",
    "\n",
    "# se aplica nuevamente el algoritmo K-Means sobre los datos escalados.\n",
    "kmeans = KMeans(n_clusters=4, random_state=1, n_init='auto').fit(df0)\n",
    "\n",
    "# Se cuentan nuevamente los registros por cluster y se almacenan en el diccionario counts\n",
    "counts = Counter(kmeans.labels_)\n",
    "\n",
    "# Se invierte la escala de los centroides de los clusters para que estén en la misma escala que los datos originales\n",
    "centers = pd.DataFrame(scaler.inverse_transform(kmeans.cluster_centers_), \n",
    "                       columns=columns)\n",
    "centers['size'] = [counts[i] for i in range(4)]\n",
    "print(centers)"
   ]
  },
  {
   "cell_type": "markdown",
   "metadata": {},
   "source": [
    "size: Indica el tamaño del cluster, es decir, cuántas observaciones están asignadas a ese cluster en particular. Por ejemplo, en el primer cluster, hay 6244 observaciones, en el segundo 3670, en el tercero 7397 y en el cuarto 5360."
   ]
  },
  {
   "cell_type": "markdown",
   "metadata": {},
   "source": [
    "Cuando no se escalas los datos, las variables tienen unidades y magnitudes diferentes, lo que puede afectar la manera en que se agrupan en el algoritmo KMeans."
   ]
  },
  {
   "cell_type": "markdown",
   "metadata": {},
   "source": [
    "Para la carcteristica revol_util\n",
    "el primer conjunto (sin escalar) están en un rango más estrecho (aproximadamente entre 57 y 63), mientras que en el segundo conjunto (escalado), los valores están en un rango más amplio (entre aproximadamente 30 y 77).\n",
    "\n",
    "Esta diferencia de escala puede influir en la forma en que se calcula la distancia entre los puntos y, por lo tanto, en cómo se forman los clusters. "
   ]
  },
  {
   "cell_type": "markdown",
   "metadata": {},
   "source": [
    "## Dominant Variables"
   ]
  },
  {
   "cell_type": "code",
   "execution_count": 70,
   "metadata": {},
   "outputs": [],
   "source": [
    "sp500_px = pd.read_csv(r'./data/sp500_data.csv.gz', index_col=0)"
   ]
  },
  {
   "cell_type": "code",
   "execution_count": 75,
   "metadata": {},
   "outputs": [
    {
     "data": {
      "text/plain": [
       "Index(['1993-01-29', '1993-02-01', '1993-02-02', '1993-02-03', '1993-02-04',\n",
       "       '1993-02-05', '1993-02-08', '1993-02-09', '1993-02-10', '1993-02-11',\n",
       "       ...\n",
       "       '2015-06-18', '2015-06-19', '2015-06-22', '2015-06-23', '2015-06-24',\n",
       "       '2015-06-25', '2015-06-26', '2015-06-29', '2015-06-30', '2015-07-01'],\n",
       "      dtype='object', length=5647)"
      ]
     },
     "execution_count": 75,
     "metadata": {},
     "output_type": "execute_result"
    }
   ],
   "source": [
    "sp500_px.index "
   ]
  },
  {
   "cell_type": "code",
   "execution_count": 76,
   "metadata": {
    "execution": {
     "iopub.execute_input": "2022-04-26T20:05:28.050932Z",
     "iopub.status.busy": "2022-04-26T20:05:28.050242Z",
     "iopub.status.idle": "2022-04-26T20:05:28.247470Z",
     "shell.execute_reply": "2022-04-26T20:05:28.246913Z"
    }
   },
   "outputs": [
    {
     "data": {
      "image/png": "[encoded data removed]",
      "text/plain": [
       "<Figure size 400x400 with 1 Axes>"
      ]
     },
     "metadata": {},
     "output_type": "display_data"
    }
   ],
   "source": [
    "# Entidades a considerar\n",
    "syms = ['GOOGL', 'AMZN', 'AAPL', 'MSFT', 'CSCO', 'INTC', 'CVX', 'XOM', \n",
    "        'SLB', 'COP', 'JPM', 'WFC', 'USB', 'AXP', 'WMT', 'TGT', 'HD', 'COST']\n",
    "\n",
    "# Seleccionar los datos de precios de las acciones a partir del 1 de enero de 2005\n",
    "top_sp1 = sp500_px.loc[sp500_px.index >= '2005-01-01', syms]\n",
    "\n",
    "# Inicializar el objeto PCA\n",
    "sp_pca1 = PCA()\n",
    "\n",
    "# Ajustar el modelo PCA a los datos seleccionados\n",
    "# PCA encuentra las direcciones de máxima varianza en los datos y  las transforma en un nuevo \n",
    "# conjunto de variables  no correlacionadas llamadas componentes principales\n",
    "sp_pca1.fit(top_sp1)\n",
    "\n",
    "\n",
    "\n",
    "# Calcular la varianza explicada por cada componente principal y almacenarla en un DataFrame\n",
    "# La varianza explicada indica cuánta variabilidad de los datos originales es explicada por cada componente principal.\n",
    "explained_variance = pd.DataFrame(sp_pca1.explained_variance_)\n",
    "\n",
    "# Configurar y mostrar el gráfico de barras de la varianza explicada de los primeros 10 componentes principales\n",
    "ax = explained_variance.head(10).plot.bar(legend=False, figsize=(4, 4))\n",
    "ax.set_xlabel('Component')\n",
    "\n",
    "plt.tight_layout()\n",
    "plt.show()"
   ]
  },
  {
   "cell_type": "markdown",
   "metadata": {},
   "source": [
    "- Eje X (Componentes): Los componentes están enumerados del 0 al 9. Estos representan los primeros 10 componentes principales obtenidos del PCA."
   ]
  },
  {
   "cell_type": "markdown",
   "metadata": {},
   "source": [
    "- Eje Y (Varianza Explicada): La altura de las barras en el histograma representa la cantidad de varianza explicada por cada componente principal. En un PCA, la varianza explicada es una medida de cuánta información de los datos originales está contenida en cada componente principal. "
   ]
  },
  {
   "cell_type": "markdown",
   "metadata": {},
   "source": [
    "- Los tres primeros componentes principales (0, 1 y 2) explican la mayor parte de la varianza en los datos.  a partir de 3 en adelante la varianza explicada por cada componente tiende a disminuir, lo que indica que estos componentes capturan menos variabilidad en los datos y pueden considerarse menos importantes en términos de representar la estructura general de los datos."
   ]
  },
  {
   "cell_type": "markdown",
   "metadata": {},
   "source": [
    "- Interpretación de los Loadings: En el resultado que has mostrado, para el primer componente principal (columna 0), las variables \"GOOGL\", \"AMZN\", \"CVX\", \"XOM\", y \"SLB\" tienen loadings más altos en valor absoluto, lo que sugiere que estas variables son dominantes en el primer componente. Para el segundo componente principal (columna 1), las variables \"AMZN\", \"AAPL\", \"MSFT\", y \"INTC\" tienen loadings más altos en valor absoluto, lo que indica su dominancia en el segundo componente."
   ]
  },
  {
   "cell_type": "code",
   "execution_count": 77,
   "metadata": {
    "execution": {
     "iopub.execute_input": "2022-04-26T20:05:28.250970Z",
     "iopub.status.busy": "2022-04-26T20:05:28.250371Z",
     "iopub.status.idle": "2022-04-26T20:05:28.257316Z",
     "shell.execute_reply": "2022-04-26T20:05:28.256642Z"
    }
   },
   "outputs": [
    {
     "name": "stdout",
     "output_type": "stream",
     "text": [
      "              0         1\n",
      "GOOGL -0.857310  0.477873\n",
      "AMZN  -0.444728 -0.874149\n",
      "AAPL  -0.071627 -0.020802\n",
      "MSFT  -0.036002 -0.006204\n",
      "CSCO  -0.029205 -0.003045\n",
      "INTC  -0.026666 -0.006069\n",
      "CVX   -0.089548 -0.037420\n",
      "XOM   -0.080336 -0.020511\n",
      "SLB   -0.110218 -0.030356\n",
      "COP   -0.057739 -0.024117\n",
      "JPM   -0.071228 -0.009244\n",
      "WFC   -0.053228 -0.008597\n",
      "USB   -0.041670 -0.005952\n",
      "AXP   -0.078907 -0.024027\n",
      "WMT   -0.040346 -0.007141\n",
      "TGT   -0.063659 -0.024662\n",
      "HD    -0.051412 -0.032922\n",
      "COST  -0.071403 -0.033826\n"
     ]
    }
   ],
   "source": [
    "# Crear un DataFrame de loadings usando los dos primeros componentes principales\n",
    "# selecciona los dos primeros componentes principales. \n",
    "\n",
    "\n",
    "loadings = pd.DataFrame(sp_pca1.components_[0:2, :], \n",
    "                        columns=top_sp1.columns)\n",
    "\n",
    "#Se transpone el DataFrame para que los símbolos de las acciones se conviertan en las filas y los componentes principales en las columnas. \n",
    "print(loadings.transpose())"
   ]
  },
  {
   "cell_type": "markdown",
   "metadata": {},
   "source": [
    "\n",
    "el loading de GOOGL es -0.857310. Esto indica una fuerte correlación negativa con el primer componente principal. En otras palabras, los movimientos de precios de GOOGL tienden a ser inversos o opuestos a la dirección del primer componente"
   ]
  },
  {
   "cell_type": "markdown",
   "metadata": {},
   "source": [
    "GOOGL es 0.477873. Este valor positivo indica una correlación moderadamente positiva con el segundo componente principal. En otras palabras, los movimientos de precios de GOOGL tienden a seguir en la misma dirección que el segundo componente"
   ]
  },
  {
   "cell_type": "markdown",
   "metadata": {},
   "source": [
    "## Categorical Data and Gower's Distance\n",
    "> Currently not available in any of the standard packages. However work is in progress to add it to scikit-learn. We will update this notebook once it becomes available\n",
    "\n",
    "https://github.com/scikit-learn/scikit-learn/pull/9555/"
   ]
  },
  {
   "cell_type": "code",
   "execution_count": 78,
   "metadata": {
    "execution": {
     "iopub.execute_input": "2022-04-26T20:05:28.260727Z",
     "iopub.status.busy": "2022-04-26T20:05:28.260234Z",
     "iopub.status.idle": "2022-04-26T20:05:28.268057Z",
     "shell.execute_reply": "2022-04-26T20:05:28.267418Z"
    }
   },
   "outputs": [
    {
     "name": "stdout",
     "output_type": "stream",
     "text": [
      "     dti  payment_inc_ratio home_            purpose_\n",
      "0   1.00            2.39320  RENT      major_purchase\n",
      "1   5.55            4.57170   OWN      small_business\n",
      "2  18.08            9.71600  RENT               other\n",
      "3  10.08           12.21520  RENT  debt_consolidation\n",
      "4   7.06            3.90888  RENT               other\n"
     ]
    }
   ],
   "source": [
    "x = defaults[['dti', 'payment_inc_ratio', 'home_', 'purpose_']].loc[0:4, :]\n",
    "print(x)"
   ]
  },
  {
   "cell_type": "markdown",
   "metadata": {},
   "source": [
    "```\n",
    "\n",
    "###############################################################\n",
    "## Figure 7-13: Categorical data and Gower's distance\n",
    "\n",
    "x <- loan_data[1:5, c('dti', 'payment_inc_ratio', 'home_', 'purpose_')]\n",
    "x\n",
    "\n",
    "daisy(x, metric='gower')\n",
    "\n",
    "set.seed(301)\n",
    "df <- loan_data[sample(nrow(loan_data), 250),\n",
    "                c('dti', 'payment_inc_ratio', 'home_', 'purpose_')]\n",
    "d = daisy(df, metric='gower')\n",
    "hcl <- hclust(d)\n",
    "dnd <- as.dendrogram(hcl)\n",
    "\n",
    "png(filename=file.path(PSDS_PATH, 'figures', 'psds_0713.png'), width = 4, height=4, units='in', res=300)\n",
    "par(mar=c(0,5,0,0)+.1)\n",
    "plot(dnd, leaflab='none', ylab='distance')\n",
    "dev.off()\n",
    "\n",
    "dnd_cut <- cut(dnd, h=.5)\n",
    "df[labels(dnd_cut$lower[[1]]),]\n",
    "\n",
    "\n",
    "## Problems in clustering with mixed data types\n",
    "df <- model.matrix(~ -1 + dti + payment_inc_ratio + home_ + pub_rec_zero, data=defaults)\n",
    "df0 <- scale(df)\n",
    "km0 <- kmeans(df0, centers=4, nstart=10)\n",
    "centers0 <- scale(km0$centers, center=FALSE, scale=1/attr(df0, 'scaled:scale'))\n",
    "round(scale(centers0, center=-attr(df0, 'scaled:center'), scale=FALSE), 2)\n",
    "```"
   ]
  },
  {
   "cell_type": "markdown",
   "metadata": {},
   "source": [
    "## Problems with Clustering Mixed Data"
   ]
  },
  {
   "cell_type": "code",
   "execution_count": 86,
   "metadata": {},
   "outputs": [],
   "source": [
    "#Definir las columnas que se utilizarán para el análisis de agrupación\n",
    "columns = ['dti', 'payment_inc_ratio', 'home_', 'pub_rec_zero']\n",
    "\n",
    "# Convertir las variables categóricas en variables dummy para manejar la variable categórica 'home_'.\n",
    "df = pd.get_dummies(defaults[columns])"
   ]
  },
  {
   "cell_type": "markdown",
   "metadata": {},
   "source": [
    "- dti: Relación entre la deuda total y el ingreso total\n",
    "- payment_inc_ratio: Monto del pago del préstamo dividido por el ingreso bruto\n",
    "- home__MORTGAGE, home__OWN, home__RENT: variables categóricas que representan el tipo de vivienda del prestatario (si el prestatario tiene una hipoteca, es propietario de su vivienda o está alquilando, respectivamente)"
   ]
  },
  {
   "cell_type": "code",
   "execution_count": 87,
   "metadata": {},
   "outputs": [
    {
     "data": {
      "text/html": [
       "<div>\n",
       "<style scoped>\n",
       "    .dataframe tbody tr th:only-of-type {\n",
       "        vertical-align: middle;\n",
       "    }\n",
       "\n",
       "    .dataframe tbody tr th {\n",
       "        vertical-align: top;\n",
       "    }\n",
       "\n",
       "    .dataframe thead th {\n",
       "        text-align: right;\n",
       "    }\n",
       "</style>\n",
       "<table border=\"1\" class=\"dataframe\">\n",
       "  <thead>\n",
       "    <tr style=\"text-align: right;\">\n",
       "      <th></th>\n",
       "      <th>dti</th>\n",
       "      <th>payment_inc_ratio</th>\n",
       "      <th>pub_rec_zero</th>\n",
       "      <th>home__MORTGAGE</th>\n",
       "      <th>home__OWN</th>\n",
       "      <th>home__RENT</th>\n",
       "    </tr>\n",
       "  </thead>\n",
       "  <tbody>\n",
       "    <tr>\n",
       "      <th>0</th>\n",
       "      <td>1.00</td>\n",
       "      <td>2.39320</td>\n",
       "      <td>1</td>\n",
       "      <td>False</td>\n",
       "      <td>False</td>\n",
       "      <td>True</td>\n",
       "    </tr>\n",
       "    <tr>\n",
       "      <th>1</th>\n",
       "      <td>5.55</td>\n",
       "      <td>4.57170</td>\n",
       "      <td>1</td>\n",
       "      <td>False</td>\n",
       "      <td>True</td>\n",
       "      <td>False</td>\n",
       "    </tr>\n",
       "    <tr>\n",
       "      <th>2</th>\n",
       "      <td>18.08</td>\n",
       "      <td>9.71600</td>\n",
       "      <td>1</td>\n",
       "      <td>False</td>\n",
       "      <td>False</td>\n",
       "      <td>True</td>\n",
       "    </tr>\n",
       "    <tr>\n",
       "      <th>3</th>\n",
       "      <td>10.08</td>\n",
       "      <td>12.21520</td>\n",
       "      <td>1</td>\n",
       "      <td>False</td>\n",
       "      <td>False</td>\n",
       "      <td>True</td>\n",
       "    </tr>\n",
       "    <tr>\n",
       "      <th>4</th>\n",
       "      <td>7.06</td>\n",
       "      <td>3.90888</td>\n",
       "      <td>1</td>\n",
       "      <td>False</td>\n",
       "      <td>False</td>\n",
       "      <td>True</td>\n",
       "    </tr>\n",
       "    <tr>\n",
       "      <th>5</th>\n",
       "      <td>13.22</td>\n",
       "      <td>8.01977</td>\n",
       "      <td>1</td>\n",
       "      <td>False</td>\n",
       "      <td>False</td>\n",
       "      <td>True</td>\n",
       "    </tr>\n",
       "    <tr>\n",
       "      <th>6</th>\n",
       "      <td>2.40</td>\n",
       "      <td>3.13358</td>\n",
       "      <td>1</td>\n",
       "      <td>False</td>\n",
       "      <td>False</td>\n",
       "      <td>True</td>\n",
       "    </tr>\n",
       "    <tr>\n",
       "      <th>7</th>\n",
       "      <td>15.22</td>\n",
       "      <td>10.29280</td>\n",
       "      <td>1</td>\n",
       "      <td>False</td>\n",
       "      <td>False</td>\n",
       "      <td>True</td>\n",
       "    </tr>\n",
       "    <tr>\n",
       "      <th>8</th>\n",
       "      <td>13.97</td>\n",
       "      <td>2.96736</td>\n",
       "      <td>1</td>\n",
       "      <td>False</td>\n",
       "      <td>False</td>\n",
       "      <td>True</td>\n",
       "    </tr>\n",
       "    <tr>\n",
       "      <th>9</th>\n",
       "      <td>16.33</td>\n",
       "      <td>1.90524</td>\n",
       "      <td>1</td>\n",
       "      <td>True</td>\n",
       "      <td>False</td>\n",
       "      <td>False</td>\n",
       "    </tr>\n",
       "    <tr>\n",
       "      <th>10</th>\n",
       "      <td>9.12</td>\n",
       "      <td>7.25070</td>\n",
       "      <td>1</td>\n",
       "      <td>True</td>\n",
       "      <td>False</td>\n",
       "      <td>False</td>\n",
       "    </tr>\n",
       "    <tr>\n",
       "      <th>11</th>\n",
       "      <td>20.88</td>\n",
       "      <td>10.11960</td>\n",
       "      <td>1</td>\n",
       "      <td>False</td>\n",
       "      <td>False</td>\n",
       "      <td>True</td>\n",
       "    </tr>\n",
       "    <tr>\n",
       "      <th>12</th>\n",
       "      <td>21.58</td>\n",
       "      <td>13.32790</td>\n",
       "      <td>1</td>\n",
       "      <td>False</td>\n",
       "      <td>False</td>\n",
       "      <td>True</td>\n",
       "    </tr>\n",
       "    <tr>\n",
       "      <th>13</th>\n",
       "      <td>13.16</td>\n",
       "      <td>8.92440</td>\n",
       "      <td>0</td>\n",
       "      <td>False</td>\n",
       "      <td>False</td>\n",
       "      <td>True</td>\n",
       "    </tr>\n",
       "    <tr>\n",
       "      <th>14</th>\n",
       "      <td>12.48</td>\n",
       "      <td>3.57024</td>\n",
       "      <td>1</td>\n",
       "      <td>False</td>\n",
       "      <td>False</td>\n",
       "      <td>True</td>\n",
       "    </tr>\n",
       "  </tbody>\n",
       "</table>\n",
       "</div>"
      ],
      "text/plain": [
       "      dti  payment_inc_ratio  pub_rec_zero  home__MORTGAGE  home__OWN  \\\n",
       "0    1.00            2.39320             1           False      False   \n",
       "1    5.55            4.57170             1           False       True   \n",
       "2   18.08            9.71600             1           False      False   \n",
       "3   10.08           12.21520             1           False      False   \n",
       "4    7.06            3.90888             1           False      False   \n",
       "5   13.22            8.01977             1           False      False   \n",
       "6    2.40            3.13358             1           False      False   \n",
       "7   15.22           10.29280             1           False      False   \n",
       "8   13.97            2.96736             1           False      False   \n",
       "9   16.33            1.90524             1            True      False   \n",
       "10   9.12            7.25070             1            True      False   \n",
       "11  20.88           10.11960             1           False      False   \n",
       "12  21.58           13.32790             1           False      False   \n",
       "13  13.16            8.92440             0           False      False   \n",
       "14  12.48            3.57024             1           False      False   \n",
       "\n",
       "    home__RENT  \n",
       "0         True  \n",
       "1        False  \n",
       "2         True  \n",
       "3         True  \n",
       "4         True  \n",
       "5         True  \n",
       "6         True  \n",
       "7         True  \n",
       "8         True  \n",
       "9        False  \n",
       "10       False  \n",
       "11        True  \n",
       "12        True  \n",
       "13        True  \n",
       "14        True  "
      ]
     },
     "execution_count": 87,
     "metadata": {},
     "output_type": "execute_result"
    }
   ],
   "source": [
    "df.head(15)"
   ]
  },
  {
   "cell_type": "code",
   "execution_count": 91,
   "metadata": {
    "execution": {
     "iopub.execute_input": "2022-04-26T20:05:28.271871Z",
     "iopub.status.busy": "2022-04-26T20:05:28.271091Z",
     "iopub.status.idle": "2022-04-26T20:05:28.615331Z",
     "shell.execute_reply": "2022-04-26T20:05:28.614510Z"
    }
   },
   "outputs": [
    {
     "name": "stdout",
     "output_type": "stream",
     "text": [
      "         dti  payment_inc_ratio  pub_rec_zero  home__MORTGAGE     home__OWN  \\\n",
      "0  21.431365          12.354001      0.943315    1.249001e-14 -1.401657e-15   \n",
      "1  12.743276           5.918701      0.900372    1.304512e-14 -3.330669e-16   \n",
      "2  17.339786           8.353535      0.905716    1.000000e+00  2.969847e-15   \n",
      "3  17.197993           9.266666      0.917903   -2.331468e-15  1.000000e+00   \n",
      "\n",
      "     home__RENT  \n",
      "0  1.000000e+00  \n",
      "1  1.000000e+00  \n",
      "2  9.603429e-15  \n",
      "3 -2.220446e-15  \n"
     ]
    }
   ],
   "source": [
    "# Inicializar el objeto StandardScaler para escalar las características\n",
    "scaler = preprocessing.StandardScaler()\n",
    "\n",
    "# Escalar las características utilizando fit_transform\n",
    "df0 = scaler.fit_transform(df * 1.0)\n",
    "\n",
    "#agrupamiento KMeans para datos mixto\n",
    "# Aplica KMeans para agrupar los datos en 4 clústeres  y ajusta el modelo a los datos preprocesados.\n",
    "kmeans = KMeans(n_clusters=4, random_state=1, n_init='auto').fit(df0)\n",
    "\n",
    "# Calcula los centros de los clústeres y revertir la transformación de escala \n",
    "# para obtener los centros en la escala original.\n",
    "centers = pd.DataFrame(scaler.inverse_transform(kmeans.cluster_centers_), \n",
    "                       columns=df.columns)\n",
    "\n",
    "#Visualizar la distribución de los datos en los clusters.\n",
    "print(centers)\n"
   ]
  },
  {
   "cell_type": "markdown",
   "metadata": {},
   "source": [
    "Interpretación de los resultados:\n",
    "\n",
    "- Cada fila de la tabla centers representa un cluster.\n",
    "- Las columnas de la tabla centers representan las variables originales.\n",
    "- Los valores de la tabla centers son las medias de las variables en cada cluster."
   ]
  }
 ],
 "metadata": {
  "kernelspec": {
   "display_name": "Python 3 (ipykernel)",
   "language": "python",
   "name": "python3"
  },
  "language_info": {
   "codemirror_mode": {
    "name": "ipython",
    "version": 3
   },
   "file_extension": ".py",
   "mimetype": "text/x-python",
   "name": "python",
   "nbconvert_exporter": "python",
   "pygments_lexer": "ipython3",
   "version": "3.11.4"
  }
 },
 "nbformat": 4,
 "nbformat_minor": 2
}
