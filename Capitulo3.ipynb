{
 "cells": [
  {
   "cell_type": "code",
   "execution_count": 1,
   "metadata": {},
   "outputs": [],
   "source": [
    "import random\n",
    "\n",
    "import pandas as pd\n",
    "import numpy as np\n",
    "import matplotlib.pylab as plt\n",
    "from scipy import stats"
   ]
  },
  {
   "cell_type": "markdown",
   "metadata": {},
   "source": [
    "## Significación Estadística y Valores p:\n"
   ]
  },
  {
   "cell_type": "markdown",
   "metadata": {},
   "source": [
    "#### Carga de Datos"
   ]
  },
  {
   "cell_type": "code",
   "execution_count": 2,
   "metadata": {},
   "outputs": [],
   "source": [
    "#Se carga el conjunto de datos\n",
    "session_times = pd.read_csv(r'./data/web_page_data.csv')\n",
    "\n"
   ]
  },
  {
   "cell_type": "markdown",
   "metadata": {},
   "source": [
    "#### Consideraciones"
   ]
  },
  {
   "cell_type": "markdown",
   "metadata": {},
   "source": [
    "- Se tienen 2 precios, A y B, en un sitio web de comercio electrónico. \n",
    "- Se quiere saber si el precio A es realmente mejor en términos de conversión de ventas que el precio B.\n",
    "- Se tiene una tabla con los resultados de conversiones y no conversiones para ambos precios.\n",
    "\n",
    "Resultado Precio A \n",
    "Conversión 200 \n",
    "Sin conversión 23739 </br>\n",
    "\n",
    "Resultado Precio B\n",
    "Conversión 182 \n",
    "Sin Conversión 22588    "
   ]
  },
  {
   "cell_type": "markdown",
   "metadata": {},
   "source": [
    "#### Objetivo"
   ]
  },
  {
   "cell_type": "markdown",
   "metadata": {},
   "source": [
    "- El código busca evaluar si la diferencia en el tiempo de conversión entre las páginas A y B es estadísticamente significativa. \n",
    "- Se utiliza un enfoque de permutación para simular la variabilidad debida al azar y se compara con la diferencia observada. \n",
    "- La visualización final ayuda a interpretar si la diferencia observada es inusual en comparación con las permutaciones aleatorias."
   ]
  },
  {
   "cell_type": "markdown",
   "metadata": {},
   "source": [
    "#### Cálculo de Medias"
   ]
  },
  {
   "cell_type": "code",
   "execution_count": 3,
   "metadata": {},
   "outputs": [
    {
     "name": "stdout",
     "output_type": "stream",
     "text": [
      "35.66666666666667\n"
     ]
    }
   ],
   "source": [
    "# Se ajusta el tiempo multiplicándolo por 100.\n",
    "session_times.Time = 100 * session_times.Time\n",
    "\n",
    "# Se calculan las medias de tiempo para las páginas A y B.\n",
    "mean_a = session_times[session_times.Page == 'Page A'].Time.mean()\n",
    "mean_b = session_times[session_times.Page == 'Page B'].Time.mean()\n",
    "print(mean_b - mean_a)"
   ]
  },
  {
   "cell_type": "markdown",
   "metadata": {},
   "source": [
    "#### Función de Permutación"
   ]
  },
  {
   "cell_type": "code",
   "execution_count": 4,
   "metadata": {},
   "outputs": [],
   "source": [
    "\n",
    "# Permutation test example with stickiness\n",
    "# Definición de una función 'perm_fun' que realiza realiza permutaciones aleatorias y calcula la diferencia en las medias de las muestras permutadas.\n",
    "# Esta función toma como entrada un conjunto de datos x, el tamaño de la muestra de la página A (nA), y el tamaño de la muestra de la página B (nB).\n",
    "\n",
    "def perm_fun(x, nA, nB):\n",
    "    n = nA + nB\n",
    "    idx_B = set(random.sample(range(n), nB))\n",
    "    idx_A = set(range(n)) - idx_B\n",
    "    return x.loc[list(idx_B)].mean() - x.loc[list(idx_A)].mean()"
   ]
  },
  {
   "cell_type": "markdown",
   "metadata": {},
   "source": [
    "#### Cálculos con la Función de Permutación"
   ]
  },
  {
   "cell_type": "code",
   "execution_count": 5,
   "metadata": {},
   "outputs": [
    {
     "name": "stdout",
     "output_type": "stream",
     "text": [
      "-21.47619047619048\n",
      "0.14\n"
     ]
    }
   ],
   "source": [
    "# Se obtienen los tamaños de las muestras para las páginas A y B (nA y nB).\n",
    "nA = session_times[session_times.Page == 'Page A'].shape[0]\n",
    "nB = session_times[session_times.Page == 'Page B'].shape[0]\n",
    "\n",
    "# Se imprime la diferencia de medias observada sin permutación \n",
    "print(perm_fun(session_times.Time, nA, nB))\n",
    "\n",
    "\n",
    "# Se realiza la función de permutación 1000 veces y se almacenan las diferencias resultantes (perm_diffs).\n",
    "perm_diffs = [perm_fun(session_times.Time, nA, nB) for _ in range(1000)]\n",
    "\n",
    "\n",
    "# Se convierten las diferencias a un arreglo de NumPy para evitar problemas de instalación.\n",
    "perm_diffs = np.array(perm_diffs)\n",
    "\n",
    "# Se imprime la proporción de permutaciones donde la diferencia es mayor que la diferencia observada.\n",
    "print(np.mean(perm_diffs > mean_b - mean_a))"
   ]
  },
  {
   "cell_type": "markdown",
   "metadata": {},
   "source": [
    "#### Cálculos con Datos de Conversión"
   ]
  },
  {
   "cell_type": "code",
   "execution_count": 6,
   "metadata": {},
   "outputs": [
    {
     "name": "stdout",
     "output_type": "stream",
     "text": [
      "Observed difference: 0.0368%\n"
     ]
    }
   ],
   "source": [
    "## Se establece una semilla aleatoria para reproducibilidad \n",
    "\n",
    "random.seed(1)\n",
    "\n",
    "# Se calcula la diferencia de porcentaje observada entre las conversiones de las páginas A y B (obs_pct_diff).\n",
    "obs_pct_diff = 100 * (200 / 23739 - 182 / 22588)\n",
    "print(f'Observed difference: {obs_pct_diff:.4f}%')\n",
    "\n",
    "\n",
    "#Se crea una lista de conversiones simuladas con 45,945 no conversiones (0) y 382 conversiones (1).\n",
    "conversion = [0] * 45945\n",
    "conversion.extend([1] * 382)\n",
    "conversion = pd.Series(conversion)\n",
    "\n",
    "\n",
    "#Se realiza la función de permutación con las conversiones y se almacenan las diferencias resultantes (perm_diffs).\n",
    "perm_diffs = [100 * perm_fun(conversion, 23739, 22588) \n",
    "              for _ in range(1000)]"
   ]
  },
  {
   "cell_type": "markdown",
   "metadata": {},
   "source": [
    "#### Visualización"
   ]
  },
  {
   "cell_type": "code",
   "execution_count": 7,
   "metadata": {},
   "outputs": [
    {
     "data": {
      "image/png": "[encoded data removed]",
      "text/plain": [
       "<Figure size 500x500 with 1 Axes>"
      ]
     },
     "metadata": {},
     "output_type": "display_data"
    }
   ],
   "source": [
    "#Se crea un histograma de las diferencias de conversión resultantes de las permutaciones.\n",
    "#Se agrega una línea vertical que representa la diferencia observada.\n",
    "#Se muestra el histograma con etiquetas y límites ajustados.\n",
    "\n",
    "\n",
    "fig, ax = plt.subplots(figsize=(5, 5))\n",
    "ax.hist(perm_diffs, bins=11, rwidth=0.9)\n",
    "ax.axvline(x=obs_pct_diff, color='black', lw=2)\n",
    "ax.text(0.06, 200, 'Observed\\ndifference', bbox={'facecolor':'white'})\n",
    "ax.set_xlabel('Conversion rate (percent)')\n",
    "ax.set_ylabel('Frequency')\n",
    "\n",
    "plt.tight_layout()\n",
    "plt.show()"
   ]
  },
  {
   "cell_type": "markdown",
   "metadata": {},
   "source": [
    "#### Resultado"
   ]
  },
  {
   "cell_type": "markdown",
   "metadata": {},
   "source": [
    "- La diferencia observada de 0.0368%\n",
    "- Se observa que la diferencia observada está cercana al centro de la distribución y no en una de las colas, podría indicar que la diferencia observada es bastante común y podría haber ocurrido por azar (está dentro del rango de variación debida al azar). \n",
    "- Esto sugiere que la diferencia en las tasas de conversión entre los precios A y B podría ser explicada por variabilidad aleatoria y no necesariamente indica una diferencia significativa.\n",
    "- Para que la diferencia observada sea considerada estadísticamente significativa, generalmente se busca que esté en una de las colas de la distribución, indicando que es poco probable que ocurra por azar y sugiriendo que hay algo real detrás de esa diferencia."
   ]
  },
  {
   "cell_type": "markdown",
   "metadata": {},
   "source": [
    "#### Observaciones\n"
   ]
  },
  {
   "cell_type": "markdown",
   "metadata": {},
   "source": [
    "-  \"porcentajes de conversión\" se refieren a la proporción de personas que realizan una acción deseada (como realizar una compra) \n",
    "   en comparación con el total de personas que visitan una página web o participan en algún tipo de actividad.\n",
    "-  \"efectividad en términos de conversiones\", se está hablando de qué precio o estrategia resulta en una mayor proporción de personas que realizan la acción deseada.\n",
    "-  En el ejercicio se comparan dos precios (A y B) para ver cuál de ellos genera una tasa de conversión más alta, es decir, cuál es más efectivo para llevar a las personas a realizar la acción que se busca, como comprar un producto."
   ]
  },
  {
   "cell_type": "markdown",
   "metadata": {},
   "source": [
    "##### Uso de permutación"
   ]
  },
  {
   "cell_type": "markdown",
   "metadata": {},
   "source": [
    "- Se usan permutaciones para evaluar si la diferencia observada en los porcentajes de conversión entre dos precios (A y B) es estadísticamente significativa o simplemente podría ocurrir por azar.\n",
    "- El procedimiento de permutación es como simular la situación en la que no hay diferencia real entre los dos precios, y cualquier diferencia observada es simplemente el resultado del azar.\n",
    "- En cada permutación, se calcula la diferencia en los porcentajes de conversión entre los dos precios, y estas diferencias conforman una distribución bajo la hipótesis nula de que no hay diferencia real.\n",
    "- Luego, se compara la diferencia observada con la distribución permutada, y si la diferencia observada cae en una región rara de esta distribución, se podría considerar significativa, sugiriendo que la diferencia entre los precios A y B no es simplemente aleatoria."
   ]
  },
  {
   "cell_type": "markdown",
   "metadata": {},
   "source": [
    "#### Utilidad\n"
   ]
  },
  {
   "cell_type": "markdown",
   "metadata": {},
   "source": [
    "- Nos ayuda a entender si la diferencia observada en los porcentajes de conversión entre los dos precios es realmente significativa o si podría haber ocurrido por casualidad."
   ]
  },
  {
   "cell_type": "markdown",
   "metadata": {},
   "source": [
    "## Valor p"
   ]
  },
  {
   "cell_type": "markdown",
   "metadata": {},
   "source": [
    "#### Cálculo del Valor p a través de Permutaciones:"
   ]
  },
  {
   "cell_type": "code",
   "execution_count": 8,
   "metadata": {},
   "outputs": [
    {
     "name": "stdout",
     "output_type": "stream",
     "text": [
      "0.332\n"
     ]
    }
   ],
   "source": [
    "# perm_diffs        es una lista que contiene las diferencias permutadas entre los porcentajes de conversión de los precios A y B.\n",
    "# El bucle [diff > obs_pct_diff for diff in perm_diffs] crea una lista de valores booleanos. Cada valor es True si la diferencia permutada es mayor que la diferencia observada (obs_pct_diff), y False en caso contrario.\n",
    "# np.mean(...)      toma la lista de booleanos y calcula la proporción de True en la lista. Esto se logra sumando todos los True y dividiendo por el número total de elementos en la lista.\n",
    "# np.mean(...)      se está utilizando para calcular la proporción de casos permutados donde la diferencia es mayor que la diferencia observada,   \n",
    "# print, se muestra el valor p calculado a través de permutaciones, \n",
    "\n",
    "print(np.mean([diff > obs_pct_diff for diff in perm_diffs]))"
   ]
  },
  {
   "cell_type": "markdown",
   "metadata": {},
   "source": [
    "##### Observación"
   ]
  },
  {
   "cell_type": "markdown",
   "metadata": {},
   "source": [
    "Valores p:\n",
    "\n",
    "- Valor p pequeño (p < 0.05): Si el valor p es menor que un umbral comúnmente utilizado de 0.05 (5%), se considera que los resultados son estadísticamente significativos. Esto sugiere que hay evidencia suficiente para rechazar la hipótesis nula.\n",
    "\n",
    "- Valor p grande (p > 0.05): Si el valor p es mayor que 0.05, no hay suficiente evidencia para rechazar la hipótesis nula. En este caso, los resultados se consideran no estadísticamente significativos."
   ]
  },
  {
   "cell_type": "markdown",
   "metadata": {},
   "source": [
    "##### Resultado\n"
   ]
  },
  {
   "cell_type": "markdown",
   "metadata": {},
   "source": [
    "- El valor 0.332 podría indicar que no hay suficiente evidencia para rechazar la hipótesis nula de que no hay diferencia real entre los porcentajes de conversión de los precios A y B."
   ]
  },
  {
   "cell_type": "code",
   "execution_count": 9,
   "metadata": {},
   "outputs": [
    {
     "name": "stdout",
     "output_type": "stream",
     "text": [
      "p-value for single sided test: 0.3498\n"
     ]
    }
   ],
   "source": [
    "\n",
    "# survivors es una matriz que representa la frecuencia de conversiones y no conversiones para los precios A y B.\n",
    "\n",
    "survivors = np.array([[200, 23739 - 200], [182, 22588 - 182]])\n",
    "\n",
    "#realiza la prueba de chi-cuadrado de independencia en la tabla de contingencia survivors.\n",
    "#chi2 contiene el estadístico de chi-cuadrado, p_value es el valor p asociado, df son los grados de libertad y _ almacena los valores esperados.\n",
    "\n",
    "chi2, p_value, df, _ = stats.chi2_contingency(survivors)\n",
    "\n",
    "# print, se muestra el valor p obtenido mediante la prueba de chi-cuadrado, dividido por 2\n",
    "print(f'p-value for single sided test: {p_value / 2:.4f}')\n"
   ]
  },
  {
   "cell_type": "markdown",
   "metadata": {},
   "source": [
    "##### Resultado\n",
    "\n"
   ]
  },
  {
   "cell_type": "markdown",
   "metadata": {},
   "source": [
    "-  El valor p es 0.3498, que es mayor que 0.05. \n",
    "- Esto podría llevar a la conclusión de que no hay suficiente evidencia para rechazar la hipótesis nula, y se podría decir que los datos no proporcionan una base sólida para afirmar que hay una diferencia significativa en la conversión entre los precios A y B según esta prueba específica."
   ]
  }
 ],
 "metadata": {
  "kernelspec": {
   "display_name": "venv",
   "language": "python",
   "name": "python3"
  },
  "language_info": {
   "codemirror_mode": {
    "name": "ipython",
    "version": 3
   },
   "file_extension": ".py",
   "mimetype": "text/x-python",
   "name": "python",
   "nbconvert_exporter": "python",
   "pygments_lexer": "ipython3",
   "version": "3.11.4"
  }
 },
 "nbformat": 4,
 "nbformat_minor": 2
}
